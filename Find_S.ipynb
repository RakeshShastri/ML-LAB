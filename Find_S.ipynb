{
 "cells": [
  {
   "cell_type": "code",
   "execution_count": 8,
   "id": "41b83f86",
   "metadata": {},
   "outputs": [
    {
     "name": "stdout",
     "output_type": "stream",
     "text": [
      "Hypothesis: ['sunny', 'warm', '?', 'strong', '?', '?']\n"
     ]
    }
   ],
   "source": [
    "import csv\n",
    "\n",
    "def load_csv(filename):\n",
    "    dataset = []\n",
    "    with open(filename, 'r') as file:\n",
    "        csv_reader = csv.reader(file)\n",
    "        next(csv_reader)  # Skip the first row (labels)\n",
    "        for row in csv_reader:\n",
    "            dataset.append(row)\n",
    "    return dataset\n",
    "\n",
    "def find_s(training_data):\n",
    "    hypothesis = None\n",
    "\n",
    "    for instance in training_data:\n",
    "        x, y = instance[:-1], instance[-1]  # Assuming the last column is the target\n",
    "\n",
    "        if y == 'yes':\n",
    "            if hypothesis is None:\n",
    "                hypothesis = x.copy()\n",
    "            else:\n",
    "                for i in range(len(hypothesis)):\n",
    "                    if hypothesis[i] != x[i]:\n",
    "                        hypothesis[i] = '?'\n",
    "\n",
    "    return hypothesis\n",
    "\n",
    "filename = 'enjoysport.csv'\n",
    "training_data = load_csv(filename)\n",
    "\n",
    "hypothesis = find_s(training_data)\n",
    "print(\"Hypothesis:\", hypothesis)\n",
    "\n"
   ]
  },
  {
   "cell_type": "code",
   "execution_count": null,
   "id": "6e97e14a",
   "metadata": {},
   "outputs": [],
   "source": []
  }
 ],
 "metadata": {
  "kernelspec": {
   "display_name": "Python 3 (ipykernel)",
   "language": "python",
   "name": "python3"
  },
  "language_info": {
   "codemirror_mode": {
    "name": "ipython",
    "version": 3
   },
   "file_extension": ".py",
   "mimetype": "text/x-python",
   "name": "python",
   "nbconvert_exporter": "python",
   "pygments_lexer": "ipython3",
   "version": "3.10.9"
  }
 },
 "nbformat": 4,
 "nbformat_minor": 5
}
